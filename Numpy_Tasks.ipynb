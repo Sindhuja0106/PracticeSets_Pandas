{
 "cells": [
  {
   "cell_type": "code",
   "execution_count": 7,
   "id": "604e45bd",
   "metadata": {},
   "outputs": [
    {
     "data": {
      "text/plain": [
       "array([10, 11, 12, 13, 14, 15, 16, 17, 18, 19, 20, 21, 22, 23, 24, 25, 26,\n",
       "       27, 28, 29, 30, 31, 32, 33, 34, 35, 36, 37, 38, 39, 40, 41, 42, 43,\n",
       "       44, 45, 46, 47, 48, 49, 50])"
      ]
     },
     "execution_count": 7,
     "metadata": {},
     "output_type": "execute_result"
    }
   ],
   "source": [
    "#Array Creation\n",
    "#1.Create a 1D array of numbers from 10 to 50.\n",
    "import numpy as np\n",
    "arr=np.array(list(range(10,51)))\n",
    "arr"
   ]
  },
  {
   "cell_type": "code",
   "execution_count": 79,
   "id": "2a515795",
   "metadata": {},
   "outputs": [
    {
     "data": {
      "text/plain": [
       "array([[0.30393155, 0.76315164, 0.14092945],\n",
       "       [0.02418347, 0.8280373 , 0.36394161],\n",
       "       [0.48989317, 0.28218975, 0.91161508]])"
      ]
     },
     "execution_count": 79,
     "metadata": {},
     "output_type": "execute_result"
    }
   ],
   "source": [
    "#Create a 3x3 array of random numbers between 0 and 1.\n",
    "arr2 = np.random.random((3, 3))\n",
    "arr2"
   ]
  },
  {
   "cell_type": "code",
   "execution_count": 17,
   "id": "82444156",
   "metadata": {},
   "outputs": [
    {
     "name": "stdout",
     "output_type": "stream",
     "text": [
      "(41,)\n",
      "9\n",
      "float64\n"
     ]
    }
   ],
   "source": [
    "#2.Array Attributes\n",
    "print(arr.shape)\n",
    "print(arr2.size)\n",
    "print(arr2.dtype)"
   ]
  },
  {
   "cell_type": "code",
   "execution_count": 20,
   "id": "35d52394",
   "metadata": {},
   "outputs": [
    {
     "data": {
      "text/plain": [
       "array([ 6,  7,  8,  9, 10])"
      ]
     },
     "execution_count": 20,
     "metadata": {},
     "output_type": "execute_result"
    }
   ],
   "source": [
    "#3.\tBasic Operations\n",
    "#o\tAdd 5 to every element of a 1D array.\n",
    "a=np.array([1,2,3,4,5])\n",
    "a=a+5\n",
    "a\n"
   ]
  },
  {
   "cell_type": "code",
   "execution_count": 21,
   "id": "f7f46879",
   "metadata": {},
   "outputs": [
    {
     "data": {
      "text/plain": [
       "array([[12, 15],\n",
       "       [33, 42]])"
      ]
     },
     "execution_count": 21,
     "metadata": {},
     "output_type": "execute_result"
    }
   ],
   "source": [
    "#Matrix Multiplication\n",
    "c=np.array([[1,2],[4,5]])\n",
    "d=np.array([[2,3],[5,6]])\n",
    "np.dot(c,d)"
   ]
  },
  {
   "cell_type": "code",
   "execution_count": 41,
   "id": "306d385e",
   "metadata": {},
   "outputs": [
    {
     "name": "stdout",
     "output_type": "stream",
     "text": [
      "The first row: [[1 2 3 4 5]]\n",
      "The last column: [ 5 10 15 20 25]\n",
      "A subarray of the first three rows and first two columns: [[ 1  2]\n",
      " [ 6  7]\n",
      " [11 12]]\n"
     ]
    }
   ],
   "source": [
    "#4.\tIndexing and Slicing\n",
    "arr4=np.arange(1,26).reshape(5,5)\n",
    "print(\"The first row:\",arr4[:1])\n",
    "print(\"The last column:\",arr4[:,-1])\n",
    "print(\"A subarray of the first three rows and first two columns:\",arr4[:3,:2])"
   ]
  },
  {
   "cell_type": "code",
   "execution_count": 44,
   "id": "ab582250",
   "metadata": {},
   "outputs": [
    {
     "name": "stdout",
     "output_type": "stream",
     "text": [
      "[ 6  8 65 67 36 11 92 72 73 58]\n",
      "The maximum value: 92\n",
      "The manimum value: 6\n",
      "The mean is: 48.8\n",
      "The Standard deviation: 29.593242471888743\n"
     ]
    }
   ],
   "source": [
    "#5.\tAggregation\n",
    "#o\tCreate a 10-element array of random integers between 1 and 100. Find:\n",
    "arr5=np.random.randint(1, 101, 10)\n",
    "print(arr5)\n",
    "print(\"The maximum value:\",arr5.max())\n",
    "print(\"The manimum value:\",arr5.min())\n",
    "print(\"The mean is:\",arr5.mean())\n",
    "print(\"The Standard deviation:\",arr5.std())"
   ]
  },
  {
   "cell_type": "code",
   "execution_count": 45,
   "id": "b9cce5ce",
   "metadata": {},
   "outputs": [
    {
     "data": {
      "text/plain": [
       "array([[ 1,  2,  3,  4],\n",
       "       [ 5,  6,  7,  8],\n",
       "       [ 9, 10, 11, 12]])"
      ]
     },
     "execution_count": 45,
     "metadata": {},
     "output_type": "execute_result"
    }
   ],
   "source": [
    "#6.\tReshaping\n",
    "#o\tConvert a 1D array of numbers from 1 to 12 into a 3x4 matrix.\n",
    "arr6=np.arange(1,13).reshape(3,4)\n",
    "arr6"
   ]
  },
  {
   "cell_type": "code",
   "execution_count": 52,
   "id": "a4a98e28",
   "metadata": {},
   "outputs": [
    {
     "data": {
      "text/plain": [
       "array([[2., 3., 4.],\n",
       "       [2., 3., 4.],\n",
       "       [2., 3., 4.]])"
      ]
     },
     "execution_count": 52,
     "metadata": {},
     "output_type": "execute_result"
    }
   ],
   "source": [
    "#7.\tBroadcasting\n",
    "#o\tCreate a 3x3 matrix of ones. Add a 1D array [1, 2, 3] to each row.\n",
    "arr7=np.ones((3,3))\n",
    "arr7+=[1,2,3]\n",
    "arr7"
   ]
  },
  {
   "cell_type": "code",
   "execution_count": 72,
   "id": "0f4a1d6a",
   "metadata": {},
   "outputs": [
    {
     "data": {
      "text/plain": [
       "array([ 5, 10, 15, 20, 25, 30, 35, 40, 45, 50])"
      ]
     },
     "execution_count": 72,
     "metadata": {},
     "output_type": "execute_result"
    }
   ],
   "source": [
    "#8.\tFiltering\n",
    "#o\tCreate a 1D array of random integers between 1 and 50. Extract all elements that are divisible by 5.\n",
    "arr8 = np.arange(1, 51) \n",
    "\n",
    "\n",
    "filtered_arr = arr8[arr8 % 5 == 0]\n",
    "filtered_arr"
   ]
  },
  {
   "cell_type": "code",
   "execution_count": 75,
   "id": "657591dc",
   "metadata": {},
   "outputs": [
    {
     "data": {
      "text/plain": [
       "array([[19, 22],\n",
       "       [43, 50]])"
      ]
     },
     "execution_count": 75,
     "metadata": {},
     "output_type": "execute_result"
    }
   ],
   "source": [
    "#9.\tMatrix Multiplication\n",
    "#o\tCreate two 2x2 matrices and perform matrix multiplication.\n",
    "matrix1 = np.array([[1, 2], [3, 4]])\n",
    "matrix2 = np.array([[5, 6], [7, 8]])\n",
    "result = np.dot(matrix1, matrix2)\n",
    "result"
   ]
  },
  {
   "cell_type": "code",
   "execution_count": 77,
   "id": "0dbcccfe",
   "metadata": {},
   "outputs": [
    {
     "name": "stdout",
     "output_type": "stream",
     "text": [
      "Diagonal elements: [ 1  6 11 16]\n"
     ]
    }
   ],
   "source": [
    "#10.\tAdvanced Indexing\n",
    "#o\tGiven a 4x4 array, use fancy indexing to extract the diagonal elements.\n",
    "arr = np.array([[1, 2, 3, 4],\n",
    "                [5, 6, 7, 8],\n",
    "                [9, 10, 11, 12],\n",
    "                [13, 14, 15, 16]])\n",
    "\n",
    "# Fancy indexing to extract diagonal elements\n",
    "diagonal = arr[np.arange(4), np.arange(4)]\n",
    "\n",
    "\n",
    "print(\"Diagonal elements:\", diagonal)"
   ]
  },
  {
   "cell_type": "code",
   "execution_count": null,
   "id": "7e12d08e",
   "metadata": {},
   "outputs": [],
   "source": []
  }
 ],
 "metadata": {
  "kernelspec": {
   "display_name": "Python 3 (ipykernel)",
   "language": "python",
   "name": "python3"
  },
  "language_info": {
   "codemirror_mode": {
    "name": "ipython",
    "version": 3
   },
   "file_extension": ".py",
   "mimetype": "text/x-python",
   "name": "python",
   "nbconvert_exporter": "python",
   "pygments_lexer": "ipython3",
   "version": "3.11.5"
  }
 },
 "nbformat": 4,
 "nbformat_minor": 5
}

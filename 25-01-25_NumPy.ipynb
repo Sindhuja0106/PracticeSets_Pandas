{
 "cells": [
  {
   "cell_type": "code",
   "execution_count": 1,
   "id": "b206038e",
   "metadata": {},
   "outputs": [
    {
     "name": "stdout",
     "output_type": "stream",
     "text": [
      "Requirement already satisfied: numpy in c:\\users\\cvr\\anaconda3\\lib\\site-packages (1.24.3)\n",
      "Note: you may need to restart the kernel to use updated packages.\n"
     ]
    }
   ],
   "source": [
    "pip install numpy\n"
   ]
  },
  {
   "cell_type": "code",
   "execution_count": 5,
   "id": "394ee602",
   "metadata": {},
   "outputs": [
    {
     "name": "stdout",
     "output_type": "stream",
     "text": [
      "[1 2 3]\n",
      "1\n",
      "[[1 2 3]\n",
      " [4 5 6]]\n"
     ]
    }
   ],
   "source": [
    "import numpy as np\n",
    "#1-D array\n",
    "arr1=np.array([1,2,3])\n",
    "print(arr1)\n",
    "print(arr1[0])\n",
    "#2-D array\n",
    "arr2=np.array([[1,2,3],[4,5,6]])\n",
    "print(arr2)"
   ]
  },
  {
   "cell_type": "code",
   "execution_count": 10,
   "id": "38d42832",
   "metadata": {},
   "outputs": [
    {
     "name": "stdout",
     "output_type": "stream",
     "text": [
      "[[0. 0. 0.]\n",
      " [0. 0. 0.]]\n",
      "[[1. 1. 1.]\n",
      " [1. 1. 1.]\n",
      " [1. 1. 1.]]\n"
     ]
    }
   ],
   "source": [
    "#Using Built in Functions\n",
    "zero=np.zeros((2,3))\n",
    "print(zero)\n",
    "one=np.ones((3,3))\n",
    "print(one)"
   ]
  },
  {
   "cell_type": "code",
   "execution_count": 11,
   "id": "61ad4601",
   "metadata": {},
   "outputs": [
    {
     "name": "stdout",
     "output_type": "stream",
     "text": [
      "[[0.58785357 0.50676279]\n",
      " [0.02185294 0.44299693]]\n"
     ]
    }
   ],
   "source": [
    "#Array of random values\n",
    "random_arr=np.random.random((2,2))\n",
    "print(random_arr)"
   ]
  },
  {
   "cell_type": "raw",
   "id": "adcbee1f",
   "metadata": {},
   "source": []
  },
  {
   "cell_type": "code",
   "execution_count": 12,
   "id": "edff8267",
   "metadata": {},
   "outputs": [
    {
     "name": "stdout",
     "output_type": "stream",
     "text": [
      "[[1. 0. 0.]\n",
      " [0. 1. 0.]\n",
      " [0. 0. 1.]]\n"
     ]
    }
   ],
   "source": [
    "#Identity matrix\n",
    "identity=np.eye(3)\n",
    "print(identity)"
   ]
  },
  {
   "cell_type": "code",
   "execution_count": 14,
   "id": "8b19d01b",
   "metadata": {},
   "outputs": [
    {
     "name": "stdout",
     "output_type": "stream",
     "text": [
      "[0 2 4 6 8]\n"
     ]
    }
   ],
   "source": [
    "#Array with a range of values\n",
    "range_arr=np.arange(0,10,2)\n",
    "print(range_arr)"
   ]
  },
  {
   "cell_type": "code",
   "execution_count": 16,
   "id": "3a2e5cda",
   "metadata": {},
   "outputs": [
    {
     "name": "stdout",
     "output_type": "stream",
     "text": [
      "The array is [[1 2 3]\n",
      " [4 5 6]]\n",
      "Sahpe: (2, 3)\n",
      "Size: 6\n",
      "Data type: int32\n",
      "Number of Dimensions 2\n"
     ]
    }
   ],
   "source": [
    "print(\"The array is\",arr2)\n",
    "\n",
    "print(\"Sahpe:\",arr2.shape)\n",
    "print(\"Size:\",arr2.size)\n",
    "print(\"Data type:\",arr2.dtype)\n",
    "print(\"Number of Dimensions\",arr2.ndim)"
   ]
  },
  {
   "cell_type": "code",
   "execution_count": 20,
   "id": "79c853de",
   "metadata": {},
   "outputs": [
    {
     "data": {
      "text/plain": [
       "6"
      ]
     },
     "execution_count": 20,
     "metadata": {},
     "output_type": "execute_result"
    }
   ],
   "source": [
    "arr2[1,-1]"
   ]
  },
  {
   "cell_type": "code",
   "execution_count": 22,
   "id": "24c97cfa",
   "metadata": {},
   "outputs": [
    {
     "data": {
      "text/plain": [
       "array([[2, 3],\n",
       "       [5, 6]])"
      ]
     },
     "execution_count": 22,
     "metadata": {},
     "output_type": "execute_result"
    }
   ],
   "source": [
    "arr2[:,1:]"
   ]
  },
  {
   "cell_type": "code",
   "execution_count": 24,
   "id": "6b82f22a",
   "metadata": {},
   "outputs": [
    {
     "name": "stdout",
     "output_type": "stream",
     "text": [
      "Addition [5 7 9]\n",
      "Multipliction [ 4 10 18]\n"
     ]
    }
   ],
   "source": [
    "a=np.array([1,2,3])\n",
    "b=np.array([4,5,6])\n",
    "print(\"Addition\",a+b)\n",
    "print(\"Multipliction\",a*b)"
   ]
  },
  {
   "cell_type": "code",
   "execution_count": 36,
   "id": "016070ab",
   "metadata": {},
   "outputs": [
    {
     "data": {
      "text/plain": [
       "array([[ 15,  39,  45],\n",
       "       [ 39,  90, 105],\n",
       "       [ 63, 141, 165]])"
      ]
     },
     "execution_count": 36,
     "metadata": {},
     "output_type": "execute_result"
    }
   ],
   "source": [
    "#Matrix Multiplication\n",
    "c=np.array([[1,2,3],[4,5,6],[7,8,9]])\n",
    "d=np.array([[2,3,4],[5,6,7],[1,8,9]])\n",
    "np.dot(c,d)"
   ]
  },
  {
   "cell_type": "code",
   "execution_count": 37,
   "id": "1af9f706",
   "metadata": {},
   "outputs": [
    {
     "data": {
      "text/plain": [
       "[<matplotlib.lines.Line2D at 0x293fdffc890>,\n",
       " <matplotlib.lines.Line2D at 0x293820e7ad0>,\n",
       " <matplotlib.lines.Line2D at 0x293820e7e50>]"
      ]
     },
     "execution_count": 37,
     "metadata": {},
     "output_type": "execute_result"
    },
    {
     "data": {
      "image/png": "[encoded data removed]",
      "text/plain": [
       "<Figure size 640x480 with 1 Axes>"
      ]
     },
     "metadata": {},
     "output_type": "display_data"
    }
   ],
   "source": [
    "import matplotlib.pyplot as plt\n",
    "plt.plot(c,d)"
   ]
  },
  {
   "cell_type": "code",
   "execution_count": 38,
   "id": "10b332b9",
   "metadata": {},
   "outputs": [
    {
     "name": "stdout",
     "output_type": "stream",
     "text": [
      "[ 2.71828183  7.3890561  20.08553692]\n",
      "[1.         1.41421356 1.73205081]\n",
      "[0.         0.69314718 1.09861229]\n"
     ]
    }
   ],
   "source": [
    "#Exponential functions\n",
    "a1=np.array([1,2,3])\n",
    "print(np.exp(a1))\n",
    "print(np.sqrt(a1))\n",
    "print(np.log(a1))"
   ]
  },
  {
   "cell_type": "code",
   "execution_count": 39,
   "id": "acbee161",
   "metadata": {},
   "outputs": [
    {
     "name": "stdout",
     "output_type": "stream",
     "text": [
      "Sum is: 6\n",
      "Mean is: 2.0\n",
      "Standard Deviation: 0.816496580927726\n",
      "Max is: 3\n",
      "Min: 1\n"
     ]
    }
   ],
   "source": [
    "#Aggregations\n",
    "print(\"Sum is:\",np.sum(a1))\n",
    "print(\"Mean is:\",np.mean(a1))\n",
    "print(\"Standard Deviation:\",np.std(a1))\n",
    "print(\"Max is:\",np.max(a1))\n",
    "print(\"Min:\",np.min(a1))"
   ]
  },
  {
   "cell_type": "code",
   "execution_count": 40,
   "id": "7d9ad80f",
   "metadata": {},
   "outputs": [
    {
     "data": {
      "text/plain": [
       "array([[1, 2, 3],\n",
       "       [4, 5, 6]])"
      ]
     },
     "execution_count": 40,
     "metadata": {},
     "output_type": "execute_result"
    }
   ],
   "source": [
    "a2=np.array([1,2,3,4,5,6])\n",
    "reshaped=a2.reshape(2,3)\n",
    "reshaped\n"
   ]
  },
  {
   "cell_type": "code",
   "execution_count": 41,
   "id": "09d1d344",
   "metadata": {},
   "outputs": [
    {
     "name": "stdout",
     "output_type": "stream",
     "text": [
      "[[1 2]\n",
      " [3 4]]\n",
      "[1 2 3 4]\n"
     ]
    }
   ],
   "source": [
    "a3=np.array([1,2])\n",
    "a4=np.array([3,4])\n",
    "#Vertical stack\n",
    "print(np.vstack((a3,a4)))\n",
    "#Horizontal stack\n",
    "print(np.hstack((a3,a4)))"
   ]
  },
  {
   "cell_type": "code",
   "execution_count": 42,
   "id": "a0285275",
   "metadata": {},
   "outputs": [
    {
     "name": "stdout",
     "output_type": "stream",
     "text": [
      "[array([1, 2]), array([3, 4]), array([5, 6])]\n"
     ]
    }
   ],
   "source": [
    "print(np.array_split(a2,3))\n"
   ]
  },
  {
   "cell_type": "code",
   "execution_count": 44,
   "id": "8063b50a",
   "metadata": {},
   "outputs": [
    {
     "name": "stdout",
     "output_type": "stream",
     "text": [
      "[10  2  3]\n"
     ]
    }
   ],
   "source": [
    "#View shares memory\n",
    "a5=np.array([1,2,3])\n",
    "view=a5.view()\n",
    "view[0]=10\n",
    "print(a5)"
   ]
  },
  {
   "cell_type": "code",
   "execution_count": 46,
   "id": "0a963356",
   "metadata": {},
   "outputs": [
    {
     "name": "stdout",
     "output_type": "stream",
     "text": [
      "[100   2   3]\n"
     ]
    }
   ],
   "source": [
    "#Copy does not share memory\n",
    "copy=a5.copy()\n",
    "copy[0]=100\n",
    "print(copy)"
   ]
  },
  {
   "cell_type": "code",
   "execution_count": 47,
   "id": "5c083b46",
   "metadata": {},
   "outputs": [],
   "source": [
    "#Save to a file\n",
    "arr1=np.array([1,2,3])\n",
    "np.save('array.npy',arr1)\n"
   ]
  },
  {
   "cell_type": "code",
   "execution_count": 48,
   "id": "1a42300a",
   "metadata": {},
   "outputs": [
    {
     "name": "stdout",
     "output_type": "stream",
     "text": [
      "[1 2 3]\n"
     ]
    }
   ],
   "source": [
    "loaded_arr=np.load('array.npy')\n",
    "print(loaded_arr)"
   ]
  },
  {
   "cell_type": "code",
   "execution_count": null,
   "id": "738fef41",
   "metadata": {},
   "outputs": [],
   "source": []
  }
 ],
 "metadata": {
  "kernelspec": {
   "display_name": "Python 3 (ipykernel)",
   "language": "python",
   "name": "python3"
  },
  "language_info": {
   "codemirror_mode": {
    "name": "ipython",
    "version": 3
   },
   "file_extension": ".py",
   "mimetype": "text/x-python",
   "name": "python",
   "nbconvert_exporter": "python",
   "pygments_lexer": "ipython3",
   "version": "3.11.5"
  }
 },
 "nbformat": 4,
 "nbformat_minor": 5
}
